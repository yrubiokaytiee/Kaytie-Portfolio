{
 "cells": [
  {
   "cell_type": "code",
   "execution_count": 8,
   "id": "68a237b5-585a-4445-92b8-3cf2536a4a83",
   "metadata": {},
   "outputs": [
    {
     "data": {
      "text/html": [
       "<div>\n",
       "<style scoped>\n",
       "    .dataframe tbody tr th:only-of-type {\n",
       "        vertical-align: middle;\n",
       "    }\n",
       "\n",
       "    .dataframe tbody tr th {\n",
       "        vertical-align: top;\n",
       "    }\n",
       "\n",
       "    .dataframe thead th {\n",
       "        text-align: right;\n",
       "    }\n",
       "</style>\n",
       "<table border=\"1\" class=\"dataframe\">\n",
       "  <thead>\n",
       "    <tr style=\"text-align: right;\">\n",
       "      <th></th>\n",
       "      <th>PortOfEntry</th>\n",
       "      <th>WaitDays</th>\n",
       "      <th>Outcome</th>\n",
       "      <th>TravelGroupSize</th>\n",
       "    </tr>\n",
       "  </thead>\n",
       "  <tbody>\n",
       "    <tr>\n",
       "      <th>0</th>\n",
       "      <td>San Ysidro</td>\n",
       "      <td>8</td>\n",
       "      <td>Admitted</td>\n",
       "      <td>2</td>\n",
       "    </tr>\n",
       "    <tr>\n",
       "      <th>1</th>\n",
       "      <td>El Paso</td>\n",
       "      <td>15</td>\n",
       "      <td>Admitted</td>\n",
       "      <td>3</td>\n",
       "    </tr>\n",
       "    <tr>\n",
       "      <th>2</th>\n",
       "      <td>Laredo</td>\n",
       "      <td>9</td>\n",
       "      <td>Admitted</td>\n",
       "      <td>4</td>\n",
       "    </tr>\n",
       "    <tr>\n",
       "      <th>3</th>\n",
       "      <td>San Ysidro</td>\n",
       "      <td>7</td>\n",
       "      <td>Admitted</td>\n",
       "      <td>1</td>\n",
       "    </tr>\n",
       "    <tr>\n",
       "      <th>4</th>\n",
       "      <td>San Ysidro</td>\n",
       "      <td>8</td>\n",
       "      <td>Admitted</td>\n",
       "      <td>5</td>\n",
       "    </tr>\n",
       "  </tbody>\n",
       "</table>\n",
       "</div>"
      ],
      "text/plain": [
       "  PortOfEntry  WaitDays   Outcome  TravelGroupSize\n",
       "0  San Ysidro         8  Admitted                2\n",
       "1     El Paso        15  Admitted                3\n",
       "2      Laredo         9  Admitted                4\n",
       "3  San Ysidro         7  Admitted                1\n",
       "4  San Ysidro         8  Admitted                5"
      ]
     },
     "execution_count": 8,
     "metadata": {},
     "output_type": "execute_result"
    }
   ],
   "source": [
    "import pandas as pd\n",
    "import numpy as np\n",
    "import matplotlib.pyplot as plt\n",
    "\n",
    "# for reproducibility\n",
    "np.random.seed(42)\n",
    "\n",
    "# create fake dataset\n",
    "n = 200\n",
    "data = pd.DataFrame({\n",
    "    'PortOfEntry': np.random.choice(['Laredo', 'Nogales', 'San Ysidro', 'El Paso'], size=n),\n",
    "    'WaitDays': np.random.poisson(lam=10, size=n),\n",
    "    'Outcome': np.random.choice(['Admitted', 'Pending', 'Denied'], size=n, p=[0.6, 0.3, 0.1]),\n",
    "    'TravelGroupSize': np.random.randint(1,6, size=n)\n",
    "})\n",
    "data.head()\n"
   ]
  },
  {
   "cell_type": "code",
   "execution_count": 9,
   "id": "d5fccd19-ccc1-481c-8f41-aae062c2a6c7",
   "metadata": {},
   "outputs": [
    {
     "ename": "SyntaxError",
     "evalue": "invalid syntax (552827448.py, line 2)",
     "output_type": "error",
     "traceback": [
      "\u001b[1;36m  Cell \u001b[1;32mIn[9], line 2\u001b[1;36m\u001b[0m\n\u001b[1;33m    - Standardizing column names\u001b[0m\n\u001b[1;37m                    ^\u001b[0m\n\u001b[1;31mSyntaxError\u001b[0m\u001b[1;31m:\u001b[0m invalid syntax\n"
     ]
    }
   ],
   "source": [
    "### Data Cleaning\n",
    "- Standardizing column names\n",
    "- Checking for missing values\n",
    "- Converting categorical variables\n"
   ]
  },
  {
   "cell_type": "code",
   "execution_count": 10,
   "id": "ae8f9575-7b70-4d1c-8a23-8f1a2161422a",
   "metadata": {},
   "outputs": [
    {
     "name": "stdout",
     "output_type": "stream",
     "text": [
      "portofentry        0\n",
      "waitdays           0\n",
      "outcome            0\n",
      "travelgroupsize    0\n",
      "dtype: int64\n"
     ]
    },
    {
     "data": {
      "text/html": [
       "<div>\n",
       "<style scoped>\n",
       "    .dataframe tbody tr th:only-of-type {\n",
       "        vertical-align: middle;\n",
       "    }\n",
       "\n",
       "    .dataframe tbody tr th {\n",
       "        vertical-align: top;\n",
       "    }\n",
       "\n",
       "    .dataframe thead th {\n",
       "        text-align: right;\n",
       "    }\n",
       "</style>\n",
       "<table border=\"1\" class=\"dataframe\">\n",
       "  <thead>\n",
       "    <tr style=\"text-align: right;\">\n",
       "      <th></th>\n",
       "      <th>portofentry</th>\n",
       "      <th>waitdays</th>\n",
       "      <th>outcome</th>\n",
       "      <th>travelgroupsize</th>\n",
       "    </tr>\n",
       "  </thead>\n",
       "  <tbody>\n",
       "    <tr>\n",
       "      <th>0</th>\n",
       "      <td>San Ysidro</td>\n",
       "      <td>8</td>\n",
       "      <td>Admitted</td>\n",
       "      <td>2</td>\n",
       "    </tr>\n",
       "    <tr>\n",
       "      <th>1</th>\n",
       "      <td>El Paso</td>\n",
       "      <td>15</td>\n",
       "      <td>Admitted</td>\n",
       "      <td>3</td>\n",
       "    </tr>\n",
       "    <tr>\n",
       "      <th>2</th>\n",
       "      <td>Laredo</td>\n",
       "      <td>9</td>\n",
       "      <td>Admitted</td>\n",
       "      <td>4</td>\n",
       "    </tr>\n",
       "    <tr>\n",
       "      <th>3</th>\n",
       "      <td>San Ysidro</td>\n",
       "      <td>7</td>\n",
       "      <td>Admitted</td>\n",
       "      <td>1</td>\n",
       "    </tr>\n",
       "    <tr>\n",
       "      <th>4</th>\n",
       "      <td>San Ysidro</td>\n",
       "      <td>8</td>\n",
       "      <td>Admitted</td>\n",
       "      <td>5</td>\n",
       "    </tr>\n",
       "  </tbody>\n",
       "</table>\n",
       "</div>"
      ],
      "text/plain": [
       "  portofentry  waitdays   outcome  travelgroupsize\n",
       "0  San Ysidro         8  Admitted                2\n",
       "1     El Paso        15  Admitted                3\n",
       "2      Laredo         9  Admitted                4\n",
       "3  San Ysidro         7  Admitted                1\n",
       "4  San Ysidro         8  Admitted                5"
      ]
     },
     "execution_count": 10,
     "metadata": {},
     "output_type": "execute_result"
    }
   ],
   "source": [
    "# simple cleaning example\n",
    "data.columns = data.columns.str.lower()\n",
    "print(data.isna().sum())\n",
    "\n",
    "# standardize port names\n",
    "data['portofentry'] = data['portofentry'].str.title()\n",
    "data.head()\n"
   ]
  },
  {
   "cell_type": "code",
   "execution_count": 11,
   "id": "b803b0de-21bd-4dcc-b60e-7da7282a4239",
   "metadata": {},
   "outputs": [
    {
     "ename": "SyntaxError",
     "evalue": "invalid syntax (3875064087.py, line 2)",
     "output_type": "error",
     "traceback": [
      "\u001b[1;36m  Cell \u001b[1;32mIn[11], line 2\u001b[1;36m\u001b[0m\n\u001b[1;33m    Visualize average wait time by port of entry and outcome distribution.\u001b[0m\n\u001b[1;37m              ^\u001b[0m\n\u001b[1;31mSyntaxError\u001b[0m\u001b[1;31m:\u001b[0m invalid syntax\n"
     ]
    }
   ],
   "source": [
    "### Exploratory Analysis\n",
    "Visualize average wait time by port of entry and outcome distribution.\n"
   ]
  },
  {
   "cell_type": "code",
   "execution_count": 12,
   "id": "33de3aac-baae-4cef-87c4-f70c8fb04fc7",
   "metadata": {},
   "outputs": [
    {
     "data": {
      "image/png": "[encoded data removed]",
      "text/plain": [
       "<Figure size 800x500 with 1 Axes>"
      ]
     },
     "metadata": {},
     "output_type": "display_data"
    }
   ],
   "source": [
    "# average wait time by port\n",
    "avg_wait = data.groupby('portofentry')['waitdays'].mean().sort_values()\n",
    "\n",
    "plt.figure(figsize=(8,5))\n",
    "avg_wait.plot(kind='bar', color='steelblue')\n",
    "plt.title('Average Wait Time (Days) by Port of Entry')\n",
    "plt.ylabel('Average Wait Days')\n",
    "plt.show()\n"
   ]
  },
  {
   "cell_type": "code",
   "execution_count": null,
   "id": "b57c3da2-5e3e-42bd-a574-e61b9208bd41",
   "metadata": {},
   "outputs": [],
   "source": []
  }
 ],
 "metadata": {
  "kernelspec": {
   "display_name": "Python [conda env:base] *",
   "language": "python",
   "name": "conda-base-py"
  },
  "language_info": {
   "codemirror_mode": {
    "name": "ipython",
    "version": 3
   },
   "file_extension": ".py",
   "mimetype": "text/x-python",
   "name": "python",
   "nbconvert_exporter": "python",
   "pygments_lexer": "ipython3",
   "version": "3.12.4"
  }
 },
 "nbformat": 4,
 "nbformat_minor": 5
}
